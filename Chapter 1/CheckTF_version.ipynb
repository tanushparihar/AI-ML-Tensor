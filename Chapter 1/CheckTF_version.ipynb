{
  "nbformat": 4,
  "nbformat_minor": 0,
  "metadata": {
    "colab": {
      "provenance": [],
      "authorship_tag": "ABX9TyNytfqkWxPicYAX+gJbD9fL",
      "include_colab_link": true
    },
    "kernelspec": {
      "name": "python3",
      "display_name": "Python 3"
    },
    "language_info": {
      "name": "python"
    }
  },
  "cells": [
    {
      "cell_type": "markdown",
      "metadata": {
        "id": "view-in-github",
        "colab_type": "text"
      },
      "source": [
        "<a href=\"https://colab.research.google.com/github/tanushparihar/AI-ML-Tensor/blob/main/CheckTF_version.ipynb\" target=\"_parent\"><img src=\"https://colab.research.google.com/assets/colab-badge.svg\" alt=\"Open In Colab\"/></a>"
      ]
    },
    {
      "cell_type": "code",
      "execution_count": 4,
      "metadata": {
        "colab": {
          "base_uri": "https://localhost:8080/"
        },
        "id": "hp0JZUoNSgD0",
        "outputId": "362495bb-52a6-4cd8-87a4-89f6e82447b3"
      },
      "outputs": [
        {
          "output_type": "stream",
          "name": "stdout",
          "text": [
            "tf.Tensor(1801.2842, shape=(), dtype=float32)\n",
            "2.18.0\n"
          ]
        }
      ],
      "source": [
        "import tensorflow as tf;\n",
        "print(tf.reduce_sum(tf.random.normal([1000, 1000])));\n",
        "print(tf.__version__)"
      ]
    }
  ]
}
